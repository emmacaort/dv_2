{
 "cells": [
  {
   "cell_type": "code",
   "execution_count": 1,
   "metadata": {
    "collapsed": true
   },
   "outputs": [],
   "source": [
    "import sys\n",
    "sys.path.append(\"..\")"
   ]
  },
  {
   "cell_type": "code",
   "execution_count": 2,
   "metadata": {
    "collapsed": true
   },
   "outputs": [],
   "source": [
    "import os\n",
    "from models.segmentation_model import SegmentationModel\n",
    "import tensorflow as tf\n",
    "import numpy as np"
   ]
  },
  {
   "cell_type": "markdown",
   "metadata": {},
   "source": [
    "# Define parametes"
   ]
  },
  {
   "cell_type": "code",
   "execution_count": 3,
   "metadata": {
    "collapsed": true
   },
   "outputs": [],
   "source": [
    "train_parameters = {\n",
    "    \"lr\": 0.001,\n",
    "    \"decay_steps\": 400,\n",
    "    \"decay_rate\": 0.95,\n",
    "    \"dropout_prob\": 0.05\n",
    "}\n",
    "\n",
    "model_parameters = {\n",
    "    \"speaker_embedding_size\": 16,\n",
    "    \"num_conv_layers\": 2,\n",
    "    \"conv_num_filters\": 8,\n",
    "    \"conv_kernel_size\": [2, 2],\n",
    "    \"num_bidirectional_units\": 16,\n",
    "    \"num_bidirectional_layers\": 2,\n",
    "}\n",
    "\n",
    "output_vocab_size= 50\n",
    "num_speakers = 10\n",
    "num_steps = 2\n",
    "save_energy = 2\n",
    "n_mels = 20\n",
    "num_beams = 2"
   ]
  },
  {
   "cell_type": "markdown",
   "metadata": {},
   "source": [
    "# Train model"
   ]
  },
  {
   "cell_type": "code",
   "execution_count": 4,
   "metadata": {},
   "outputs": [
    {
     "name": "stdout",
     "output_type": "stream",
     "text": [
      "1\n",
      "25.0859\n",
      "2\n",
      "24.7731\n",
      "saving weights\n"
     ]
    }
   ],
   "source": [
    "with tf.Session() as sess:\n",
    "\n",
    "    model = SegmentationModel(\n",
    "        output_vocab_size, num_speakers, model_parameters,\n",
    "    )\n",
    "    \n",
    "    frequencies = tf.placeholder(tf.float32, [None, None, n_mels])\n",
    "    frequencies_seq_len = tf.placeholder(tf.int32, [None])\n",
    "    speaker_ids = tf.placeholder(tf.int32, [None])\n",
    "    phonemes = tf.sparse_placeholder(tf.int32)\n",
    "    \n",
    "    \n",
    "    train_op_tf, loss_tf, global_step_tf, summary_tf = model.build_train_operations(\n",
    "        frequencies, frequencies_seq_len,\n",
    "        speaker_ids,\n",
    "        phonemes,\n",
    "        train_parameters\n",
    "    )\n",
    "    \n",
    "    predictor_frequencies = tf.placeholder(tf.float32, [None, None, n_mels])\n",
    "    predictor_frequencies_seq_len = tf.placeholder(tf.int32, [None])\n",
    "    predictor_speaker_ids = tf.placeholder(tf.int32, [None])\n",
    "    \n",
    "    greedy_predictor_tf = model.build_greedy_predictor(\n",
    "        predictor_frequencies, predictor_frequencies_seq_len, predictor_speaker_ids, True\n",
    "    )\n",
    "    \n",
    "    beam_predictor_tf = model.build_beam_search_predictor(\n",
    "        predictor_frequencies, predictor_frequencies_seq_len, predictor_speaker_ids,\n",
    "        num_beams, True\n",
    "    )\n",
    "\n",
    "    train_writer = tf.summary.FileWriter('../log/train_grapheme_to_phoneme_model_notebook/train', sess.graph)\n",
    "    \n",
    "    tf.global_variables_initializer().run()\n",
    "    coord = tf.train.Coordinator()\n",
    "    threads = tf.train.start_queue_runners(sess=sess, coord=coord)\n",
    "\n",
    "    saver = tf.train.Saver(max_to_keep=3, keep_checkpoint_every_n_hours=3)\n",
    "    \n",
    "    for _ in xrange(num_steps):\n",
    "        \n",
    "        target_indices=[[0, 0], [0, 1], [0, 2], [1, 0], [1, 1], [1, 2]]\n",
    "        target_values=[1, 2, 3, 4, 5, 6]\n",
    "        dense_shape=[2, 4]\n",
    "        \n",
    "        out = sess.run([\n",
    "            train_op_tf,\n",
    "            global_step_tf,\n",
    "            loss_tf,\n",
    "            summary_tf\n",
    "        ], feed_dict={\n",
    "            frequencies: np.random.rand(2, 10, 20),\n",
    "            frequencies_seq_len: 8* np.ones(2),\n",
    "            speaker_ids: 2 * np.ones((2)),\n",
    "            phonemes:(target_indices,target_values, dense_shape)\n",
    "        })\n",
    "\n",
    "        _, global_step, loss, summary  = out\n",
    "        \n",
    "        print global_step\n",
    "        print loss\n",
    "\n",
    "        train_writer.add_summary(summary, global_step)\n",
    "\n",
    "        # detect gradient explosion\n",
    "        if loss > 1e8 and global_step > 500:\n",
    "            print('loss exploded')\n",
    "            break\n",
    "\n",
    "        if global_step % save_energy == 0 and global_step != 0:\n",
    "\n",
    "            print('saving weights')\n",
    "            if not os.path.exists('../weights/train_grapheme_to_phoneme_model_notebook/'):\n",
    "                os.makedirs('../weights/train_grapheme_to_phoneme_model_notebook/')\n",
    "            saver.save(sess, '../weights/train_grapheme_to_phoneme_model_notebook/', global_step=global_step)\n",
    "    \n",
    "    coord.request_stop()\n",
    "    coord.join(threads)"
   ]
  },
  {
   "cell_type": "code",
   "execution_count": null,
   "metadata": {
    "collapsed": true
   },
   "outputs": [],
   "source": []
  }
 ],
 "metadata": {
  "kernelspec": {
   "display_name": "Python 2",
   "language": "python",
   "name": "python2"
  },
  "language_info": {
   "codemirror_mode": {
    "name": "ipython",
    "version": 2
   },
   "file_extension": ".py",
   "mimetype": "text/x-python",
   "name": "python",
   "nbconvert_exporter": "python",
   "pygments_lexer": "ipython2",
   "version": "2.7.13"
  }
 },
 "nbformat": 4,
 "nbformat_minor": 2
}
