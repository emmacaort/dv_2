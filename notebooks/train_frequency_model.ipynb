{
 "cells": [
  {
   "cell_type": "code",
   "execution_count": 1,
   "metadata": {},
   "outputs": [],
   "source": [
    "import sys\n",
    "sys.path.append(\"..\")"
   ]
  },
  {
   "cell_type": "code",
   "execution_count": 2,
   "metadata": {},
   "outputs": [],
   "source": [
    "import os\n",
    "from models.frequency_model import FrequencyModel\n",
    "from preprocess import *\n",
    "import tensorflow as tf\n",
    "import numpy as np\n",
    "from tqdm import *"
   ]
  },
  {
   "cell_type": "markdown",
   "metadata": {},
   "source": [
    "# Define parametes"
   ]
  },
  {
   "cell_type": "code",
   "execution_count": 3,
   "metadata": {},
   "outputs": [],
   "source": [
    "train_parameters = {\n",
    "    \"lr\": 0.0001,\n",
    "    \"decay_steps\": 300,\n",
    "    \"decay_rate\": 0.9,\n",
    "    \"dropout_prob\": 0.2\n",
    "}\n",
    "\n",
    "model_parameters = {\n",
    "    \"phonemes_embedding_size\": 16,\n",
    "    \"speaker_embedding_size\": 16,\n",
    "    \"num_bidirectional_layers\": 2,\n",
    "    \"num_bidirectional_units\": 16,\n",
    "    \"conv_widths\": [2, 2],  # [1,2] the width of each conv\n",
    "    \"output_dimension\": 2 # the number of units in the GRUcell\n",
    "}\n",
    "\n",
    "\n",
    "max_len = 512\n",
    "input_vocab_size = 500 # 50 kinds of phonemes\n",
    "batch_size = 2\n",
    "num_speakers = 10\n",
    "num_buckets = 50\n",
    "num_steps = 5\n",
    "save_energy = 2\n"
   ]
  },
  {
   "cell_type": "markdown",
   "metadata": {},
   "source": [
    "# Simulate Dataset"
   ]
  },
  {
   "cell_type": "code",
   "execution_count": 4,
   "metadata": {},
   "outputs": [],
   "source": [
    "voiced_thresh = 1000.\n",
    "lower,upper = -5000.,5000.\n",
    "mu,sigma = 0., 500.\n",
    "sen_n = 200\n",
    "\n",
    "train_sentences = [create_frequency_sentence(max_len,input_vocab_size,mu,sigma,lower,upper,\n",
    "                                            input_vocab_size,voiced_thresh,batch_size) for i in range(sen_n/batch_size)]\n",
    "#val_sen_n = 20\n",
    "#val_sentence = [create_frame_sentence(max_len,input_vocab_size,mu,sigma,\n",
    "#                                        lower,upper,batch_size) for i in range(val_sen_n/batch_size)]\n"
   ]
  },
  {
   "cell_type": "markdown",
   "metadata": {},
   "source": [
    "# Train model"
   ]
  },
  {
   "cell_type": "code",
   "execution_count": 5,
   "metadata": {},
   "outputs": [
    {
     "name": "stderr",
     "output_type": "stream",
     "text": [
      "\r",
      "  0%|          | 0/100 [00:00<?, ?it/s]"
     ]
    },
    {
     "name": "stdout",
     "output_type": "stream",
     "text": [
      "==============================\n",
      "epoch: 0\n"
     ]
    },
    {
     "name": "stderr",
     "output_type": "stream",
     "text": [
      "100%|██████████| 100/100 [01:31<00:00,  1.09it/s]\n",
      "  0%|          | 0/100 [00:00<?, ?it/s]"
     ]
    },
    {
     "name": "stdout",
     "output_type": "stream",
     "text": [
      "Train loss: 378.317\n",
      "==============================\n",
      "epoch: 1\n"
     ]
    },
    {
     "name": "stderr",
     "output_type": "stream",
     "text": [
      "100%|██████████| 100/100 [01:31<00:00,  1.10it/s]\n",
      "  0%|          | 0/100 [00:00<?, ?it/s]"
     ]
    },
    {
     "name": "stdout",
     "output_type": "stream",
     "text": [
      "Train loss: 378.175\n",
      "==============================\n",
      "epoch: 2\n"
     ]
    },
    {
     "name": "stderr",
     "output_type": "stream",
     "text": [
      "100%|██████████| 100/100 [01:31<00:00,  1.10it/s]\n",
      "  0%|          | 0/100 [00:00<?, ?it/s]"
     ]
    },
    {
     "name": "stdout",
     "output_type": "stream",
     "text": [
      "Train loss: 378.079\n",
      "==============================\n",
      "epoch: 3\n"
     ]
    },
    {
     "name": "stderr",
     "output_type": "stream",
     "text": [
      "100%|██████████| 100/100 [01:31<00:00,  1.10it/s]\n",
      "  0%|          | 0/100 [00:00<?, ?it/s]"
     ]
    },
    {
     "name": "stdout",
     "output_type": "stream",
     "text": [
      "Train loss: 378.069\n",
      "==============================\n",
      "epoch: 4\n"
     ]
    },
    {
     "name": "stderr",
     "output_type": "stream",
     "text": [
      "100%|██████████| 100/100 [01:31<00:00,  1.10it/s]\n"
     ]
    },
    {
     "name": "stdout",
     "output_type": "stream",
     "text": [
      "Train loss: 378.068\n"
     ]
    }
   ],
   "source": [
    "with tf.Session() as sess:\n",
    "    phonemes = tf.placeholder(tf.int32, [None, max_len])\n",
    "    phonemes_seq_len = tf.placeholder(tf.int32, [None])\n",
    "    speaker_ids = tf.placeholder(tf.int32, [None])\n",
    "    voiced_target = tf.placeholder(tf.int32, [None, max_len])\n",
    "    frequency_target = tf.placeholder(tf.float32, [None, max_len])\n",
    "    \n",
    "    prediction_phonemes = tf.placeholder(tf.int32, [None, max_len],name=\"p_phonemes\")\n",
    "    prediction_phonemes_seq_len = tf.placeholder(tf.int32, [None],name=\"p_seq_len\")\n",
    "    prediction_speaker_ids = tf.placeholder(tf.int32, [None],name=\"p_spk_ids\")\n",
    "\n",
    "    model = FrequencyModel(\n",
    "        input_vocab_size, num_speakers,\n",
    "        model_parameters\n",
    "    )\n",
    "    \n",
    "    train_op_tf, loss_tf, global_step_tf, summary_tf = model.build_train_operations(\n",
    "        phonemes, phonemes_seq_len, speaker_ids, voiced_target, frequency_target, train_parameters\n",
    "    )\n",
    "    \n",
    "    prediction_voiced, prediction_frequencies = model.build_prediction(\n",
    "        prediction_phonemes, prediction_phonemes_seq_len, prediction_speaker_ids, True\n",
    "    )\n",
    "\n",
    "    train_writer = tf.summary.FileWriter('../log/train_frequency_model_notebook/train', sess.graph)\n",
    "    \n",
    "    tf.global_variables_initializer().run()\n",
    "    coord = tf.train.Coordinator()\n",
    "    threads = tf.train.start_queue_runners(sess=sess, coord=coord)\n",
    "\n",
    "    saver = tf.train.Saver(max_to_keep=3, keep_checkpoint_every_n_hours=3)\n",
    "    \n",
    "    for i in xrange(num_steps):\n",
    "        print '='*30\n",
    "        print \"epoch:\",i\n",
    "        for s in tqdm(train_sentences):\n",
    "            out = sess.run([\n",
    "                train_op_tf,\n",
    "                loss_tf,\n",
    "                global_step_tf,\n",
    "                summary_tf,\n",
    "            ], feed_dict={\n",
    "                phonemes: s['phonemes'],  \n",
    "                phonemes_seq_len: s['phonemes_seq_len'],\n",
    "                speaker_ids: 1 * np.ones((batch_size)),\n",
    "                voiced_target: s['voiced_target'], \n",
    "                frequency_target: s['frequency_target'] \n",
    "            })\n",
    "            _, loss, global_step, summary  = out\n",
    "\n",
    "            #print global_step\n",
    "        print \"Train loss:\",loss\n",
    "            \n",
    "        # detect gradient explosion\n",
    "        if loss > 1e8 and global_step > 500:\n",
    "            print('loss exploded')\n",
    "            break\n",
    "\n",
    "        #train_writer.add_summary(summary, global_step)\n",
    "    saver.save(sess, '../weights/train_frequency_model_notebook/model.ckpt')\n",
    "    print \"Weights saved.\"\n",
    "    coord.request_stop()\n",
    "    coord.join(threads)\n",
    "    \n"
   ]
  },
  {
   "cell_type": "code",
   "execution_count": null,
   "metadata": {},
   "outputs": [],
   "source": []
  }
 ],
 "metadata": {
  "kernelspec": {
   "display_name": "Python 2",
   "language": "python",
   "name": "python2"
  },
  "language_info": {
   "codemirror_mode": {
    "name": "ipython",
    "version": 2
   },
   "file_extension": ".py",
   "mimetype": "text/x-python",
   "name": "python",
   "nbconvert_exporter": "python",
   "pygments_lexer": "ipython2",
   "version": "2.7.5"
  }
 },
 "nbformat": 4,
 "nbformat_minor": 2
}
