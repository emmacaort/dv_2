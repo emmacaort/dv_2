{
 "cells": [
  {
   "cell_type": "code",
   "execution_count": 1,
   "metadata": {},
   "outputs": [],
   "source": [
    "import sys\n",
    "sys.path.append(\"..\")"
   ]
  },
  {
   "cell_type": "code",
   "execution_count": 2,
   "metadata": {},
   "outputs": [],
   "source": [
    "import os\n",
    "from models.grapheme_to_phoneme import GraphemeToPhoneme\n",
    "import tensorflow as tf\n",
    "import numpy as np"
   ]
  },
  {
   "cell_type": "markdown",
   "metadata": {},
   "source": [
    "# Define parametes"
   ]
  },
  {
   "cell_type": "code",
   "execution_count": null,
   "metadata": {},
   "outputs": [],
   "source": [
    "train_parameters = {\n",
    "    \"lr\": 0.001,\n",
    "    \"decay_steps\": 1000,\n",
    "    \"decay_rate\": 0.85,\n",
    "    \"dropout_prob\": 0.95\n",
    "}\n",
    "\n",
    "model_parameters = {\n",
    "  \"embedding_size\": 80,\n",
    "  \"num_units\": 10,\n",
    "  \"num_layers\": 2,\n",
    "  \"num_beams\": 1\n",
    "}\n",
    "\n",
    "input_vocab_size = 10\n",
    "output_vocab_size= 11\n",
    "\n",
    "end_token = 10\n",
    "\n",
    "num_steps = 2\n",
    "\n",
    "save_energy = 2"
   ]
  },
  {
   "cell_type": "markdown",
   "metadata": {},
   "source": [
    "# Train model"
   ]
  },
  {
   "cell_type": "code",
   "execution_count": null,
   "metadata": {},
   "outputs": [
    {
     "name": "stdout",
     "output_type": "stream",
     "text": [
      "Tensor(\"decoder_1/Slice:0\", shape=(?, ?, 1), dtype=int32) Tensor(\"decoder_1/Slice_1:0\", shape=(?, 1), dtype=int32)\n",
      "saving weights\n"
     ]
    }
   ],
   "source": [
    "with tf.Session() as sess:\n",
    "    characters = tf.placeholder(tf.int32, [None, 200])\n",
    "    characters_seq_len = tf.placeholder(tf.int32, [None])\n",
    "    phonemes = tf.placeholder(tf.int32, [None, 200])\n",
    "    phonemes_seq_len = tf.placeholder(tf.int32, [None])\n",
    "    \n",
    "    prediction_characters = tf.placeholder(tf.int32, [None, 200],name=\"pred_ch\")\n",
    "    prediction_characters_seq_len = tf.placeholder(tf.int32, [None],name=\"pred_ch_n\")\n",
    "    model = GraphemeToPhoneme(input_vocab_size, output_vocab_size, end_token, model_parameters)\n",
    "    \n",
    "    train_op_tf, loss_tf, global_step_tf, summary_tf, decoder_output_tf = model.build_train_operations(\n",
    "        characters, characters_seq_len, phonemes, phonemes_seq_len, train_parameters\n",
    "    )\n",
    "    \n",
    "    prediction_tf = model.build_prediction(prediction_characters, prediction_characters_seq_len, True)\n",
    "    best_predictions, best_predictions_lengths = prediction_tf\n",
    "    \n",
    "    train_writer = tf.summary.FileWriter('../log/train_grapheme_to_phoneme_model_notebook/train', sess.graph)\n",
    "    \n",
    "    tf.global_variables_initializer().run()\n",
    "    coord = tf.train.Coordinator()\n",
    "    threads = tf.train.start_queue_runners(sess=sess, coord=coord)\n",
    "\n",
    "    saver = tf.train.Saver(max_to_keep=3, keep_checkpoint_every_n_hours=3)\n",
    "    \n",
    "    for _ in xrange(num_steps):\n",
    "        out = sess.run([\n",
    "            train_op_tf,\n",
    "            global_step_tf,\n",
    "            loss_tf,\n",
    "            summary_tf,\n",
    "            decoder_output_tf,\n",
    "        ], feed_dict={\n",
    "            characters: np.random.rand(2, 200),\n",
    "            characters_seq_len: 10* np.ones((2)),\n",
    "            phonemes: np.random.rand(2, 200),\n",
    "            phonemes_seq_len: 8* np.ones((2))\n",
    "        })\n",
    "        _, global_step, loss, summary, _ = out\n",
    "\n",
    "        train_writer.add_summary(summary, global_step)\n",
    "\n",
    "        # detect gradient explosion\n",
    "        if loss > 1e8 and global_step > 500:\n",
    "            print('loss exploded')\n",
    "            break\n",
    "\n",
    "    print('saving weights')\n",
    "    saver.save(sess, '../weights/train_grapheme_to_phoneme_model_notebook/model.ckpt')\n",
    "    \n",
    "    \n",
    "    pred = sess.run(prediction_tf, feed_dict={\n",
    "        prediction_characters:np.random.rand(2, 200),\n",
    "        prediction_characters_seq_len:10* np.ones((2))\n",
    "    })\n",
    "    print pred    \n",
    "    \n",
    "    \n",
    "    coord.request_stop()\n",
    "    coord.join(threads)"
   ]
  },
  {
   "cell_type": "code",
   "execution_count": null,
   "metadata": {},
   "outputs": [],
   "source": []
  },
  {
   "cell_type": "code",
   "execution_count": null,
   "metadata": {},
   "outputs": [],
   "source": []
  }
 ],
 "metadata": {
  "kernelspec": {
   "display_name": "Python 2",
   "language": "python",
   "name": "python2"
  },
  "language_info": {
   "codemirror_mode": {
    "name": "ipython",
    "version": 2
   },
   "file_extension": ".py",
   "mimetype": "text/x-python",
   "name": "python",
   "nbconvert_exporter": "python",
   "pygments_lexer": "ipython2",
   "version": "2.7.5"
  }
 },
 "nbformat": 4,
 "nbformat_minor": 2
}
