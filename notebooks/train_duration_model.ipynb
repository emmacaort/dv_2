{
 "cells": [
  {
   "cell_type": "code",
   "execution_count": 1,
   "metadata": {},
   "outputs": [],
   "source": [
    "import sys\n",
    "sys.path.append(\"..\")"
   ]
  },
  {
   "cell_type": "code",
   "execution_count": 2,
   "metadata": {},
   "outputs": [],
   "source": [
    "import os\n",
    "from models.duration_model import DurationModel\n",
    "from preprocess import *\n",
    "import tensorflow as tf\n",
    "import numpy as np\n",
    "import math\n",
    "import scipy.stats as stats\n",
    "from tqdm import *"
   ]
  },
  {
   "cell_type": "markdown",
   "metadata": {},
   "source": [
    "# Define parametes"
   ]
  },
  {
   "cell_type": "code",
   "execution_count": 3,
   "metadata": {},
   "outputs": [],
   "source": [
    "train_parameters = {\n",
    "    \"lr\": 0.0001,\n",
    "    \"decay_steps\": 300,\n",
    "    \"decay_rate\": 0.9,\n",
    "    \"dropout_prob\": 0.2\n",
    "}\n",
    "\n",
    "model_parameters = {\n",
    "    \"phonemes_embedding_size\": 56,\n",
    "    \"speaker_embedding_size\": 16,\n",
    "    \"num_dense_layers\": 2,\n",
    "    \"dense_layers_units\": 16,\n",
    "    \"num_bidirectional_layers\": 2,\n",
    "    \"num_bidirectional_units\": 16\n",
    "}\n",
    "max_len = 200\n",
    "input_vocab_size = 500 # 50 kinds of phonemes\n",
    "num_buckets = 50\n",
    "batch_size = 2  # number of sentences in one example\n",
    "num_speakers = 10\n",
    "num_steps = 5\n",
    "save_energy = 2\n"
   ]
  },
  {
   "cell_type": "markdown",
   "metadata": {},
   "source": [
    "# Simulate Dataset"
   ]
  },
  {
   "cell_type": "code",
   "execution_count": 4,
   "metadata": {},
   "outputs": [
    {
     "name": "stderr",
     "output_type": "stream",
     "text": [
      "preprocess.py:63: RuntimeWarning: divide by zero encountered in log\n",
      "  log_duration = np.log(duration)\n"
     ]
    }
   ],
   "source": [
    "\"\"\"\n",
    "Data needed for a single trianing sentence: {\n",
    "            phonemes: np.ones((2, 200)), # (2,200) means 2 sentences and the maximum length of the sentence\n",
    "            phonemes_seq_len: [10,10],  # real sentence length\n",
    "            speaker_ids: 2 * np.ones((2)), # speaker indexes. [1,2] means speaker1 and speaker2\n",
    "            durations: durations # (2,200) the real time of each phenome  \n",
    "\n",
    "\"\"\"\n",
    "\n",
    "###########################\n",
    "# 200 Simulated sentences #\n",
    "###########################\n",
    "\n",
    "d_lower, d_upper = 0., 100. \n",
    "d_mu, d_sigma = 30., 10.\n",
    "min_frame_len = 10\n",
    "asn_upper = np.log(.95 * d_upper)\n",
    "asn_lower = np.log(min_frame_len/1000.)\n",
    "sen_n = 200\n",
    "train_sentences = [create_duration_sentence(max_len,input_vocab_size,d_lower, d_upper, d_mu, d_sigma, \n",
    "                            asn_upper, asn_lower, num_buckets, batch_size) for i in range(sen_n/batch_size)]\n",
    "val_sen_n = 20\n",
    "val_sentences = [create_duration_sentence(max_len,input_vocab_size,d_lower, d_upper, d_mu, d_sigma, \n",
    "                            asn_upper, asn_lower, num_buckets, batch_size) for i in range(val_sen_n/batch_size)]\n"
   ]
  },
  {
   "cell_type": "markdown",
   "metadata": {},
   "source": [
    "# Train model"
   ]
  },
  {
   "cell_type": "code",
   "execution_count": 5,
   "metadata": {},
   "outputs": [
    {
     "name": "stderr",
     "output_type": "stream",
     "text": [
      "/usr/lib/python2.7/site-packages/tensorflow/python/ops/gradients_impl.py:95: UserWarning: Converting sparse IndexedSlices to a dense Tensor of unknown shape. This may consume a large amount of memory.\n",
      "  \"Converting sparse IndexedSlices to a dense Tensor of unknown shape. \"\n",
      "  0%|          | 0/100 [00:00<?, ?it/s]"
     ]
    },
    {
     "name": "stdout",
     "output_type": "stream",
     "text": [
      "==============================\n",
      "epoch: 0\n"
     ]
    },
    {
     "name": "stderr",
     "output_type": "stream",
     "text": [
      "100%|██████████| 100/100 [00:46<00:00,  2.14it/s]\n"
     ]
    },
    {
     "name": "stdout",
     "output_type": "stream",
     "text": [
      "Train total loss: 194.676608499\n",
      "Current sentence loss: 472.939\n",
      "Calculating validation loss...\n"
     ]
    },
    {
     "name": "stderr",
     "output_type": "stream",
     "text": [
      "\r",
      "  0%|          | 0/100 [00:00<?, ?it/s]"
     ]
    },
    {
     "name": "stdout",
     "output_type": "stream",
     "text": [
      "Validation loss: 161.396176338\n",
      "==============================\n",
      "epoch: 1\n"
     ]
    },
    {
     "name": "stderr",
     "output_type": "stream",
     "text": [
      "100%|██████████| 100/100 [00:46<00:00,  2.15it/s]\n"
     ]
    },
    {
     "name": "stdout",
     "output_type": "stream",
     "text": [
      "Train total loss: 160.682972133\n",
      "Current sentence loss: 369.221\n",
      "Calculating validation loss...\n"
     ]
    },
    {
     "name": "stderr",
     "output_type": "stream",
     "text": [
      "\r",
      "  0%|          | 0/100 [00:00<?, ?it/s]"
     ]
    },
    {
     "name": "stdout",
     "output_type": "stream",
     "text": [
      "Validation loss: 126.520114899\n",
      "==============================\n",
      "epoch: 2\n"
     ]
    },
    {
     "name": "stderr",
     "output_type": "stream",
     "text": [
      "100%|██████████| 100/100 [00:46<00:00,  2.16it/s]\n"
     ]
    },
    {
     "name": "stdout",
     "output_type": "stream",
     "text": [
      "Train total loss: 132.97721373\n",
      "Current sentence loss: 324.107\n",
      "Calculating validation loss...\n"
     ]
    },
    {
     "name": "stderr",
     "output_type": "stream",
     "text": [
      "\r",
      "  0%|          | 0/100 [00:00<?, ?it/s]"
     ]
    },
    {
     "name": "stdout",
     "output_type": "stream",
     "text": [
      "Validation loss: 111.062709427\n",
      "==============================\n",
      "epoch: 3\n"
     ]
    },
    {
     "name": "stderr",
     "output_type": "stream",
     "text": [
      "100%|██████████| 100/100 [00:46<00:00,  2.16it/s]\n"
     ]
    },
    {
     "name": "stdout",
     "output_type": "stream",
     "text": [
      "Train total loss: 121.229941581\n",
      "Current sentence loss: 303.574\n",
      "Calculating validation loss...\n"
     ]
    },
    {
     "name": "stderr",
     "output_type": "stream",
     "text": [
      "\r",
      "  0%|          | 0/100 [00:00<?, ?it/s]"
     ]
    },
    {
     "name": "stdout",
     "output_type": "stream",
     "text": [
      "Validation loss: 104.180547619\n",
      "==============================\n",
      "epoch: 4\n"
     ]
    },
    {
     "name": "stderr",
     "output_type": "stream",
     "text": [
      "100%|██████████| 100/100 [00:46<00:00,  2.17it/s]\n"
     ]
    },
    {
     "name": "stdout",
     "output_type": "stream",
     "text": [
      "Train total loss: 115.374780056\n",
      "Current sentence loss: 292.901\n",
      "Calculating validation loss...\n",
      "Validation loss: 100.614594841\n",
      "saving weights\n"
     ]
    },
    {
     "data": {
      "text/plain": [
       "\"\\n        train_writer.add_summary(summary, global_step)\\n\\n        # detect gradient explosion\\n        if loss > 1e8 and global_step > 500:\\n            print('loss exploded')\\n            break\\n\\n        if global_step % save_energy == 0 and global_step != 0:\\n\\n            print('saving weights')\\n            if not os.path.exists('../weights/train_duration_model_notebook/'):\\n                os.makedirs('../weights/train_duration_model_notebook/')    \\n            saver.save(sess, '../weights/train_duration_model_notebook/model.ckpt', global_step=global_step)\\n\\n\""
      ]
     },
     "execution_count": 5,
     "metadata": {},
     "output_type": "execute_result"
    }
   ],
   "source": [
    "with tf.Session() as sess:\n",
    "    phonemes = tf.placeholder(tf.int32, [None, max_len])\n",
    "    phonemes_seq_len = tf.placeholder(tf.int32, [None])\n",
    "    speaker_ids = tf.placeholder(tf.int32, [None])\n",
    "    durations = tf.placeholder(tf.int32, [None, max_len])\n",
    "    \n",
    "    prediction_phonemes = tf.placeholder(tf.int32, [None, max_len],name=\"p_phonemes\")\n",
    "    prediction_phonemes_seq_len = tf.placeholder(tf.int32, [None],name=\"p_seq_len\")\n",
    "    prediction_speaker_ids = tf.placeholder(tf.int32, [None],name=\"p_spk_ids\")\n",
    "    prediction_params = tf.placeholder(tf.float32, [num_buckets,num_buckets],name=\"p_params\")\n",
    "    \n",
    "    model = DurationModel(\n",
    "        input_vocab_size, num_speakers,\n",
    "        num_buckets, model_parameters\n",
    "    )\n",
    "    \n",
    "    train_op_tf, loss_tf, global_step_tf, summary_tf, logits_tf, transition_params_tf = model.build_train_operations(\n",
    "        phonemes, phonemes_seq_len, speaker_ids, durations, train_parameters\n",
    "    )\n",
    "    #val_op_tf = model.val_operations(phonemes, phonemes_seq_len, speaker_ids, durations, train_parameters,True)\n",
    "    \n",
    "    prediction = model.viterbi_predict(\n",
    "        prediction_phonemes, prediction_phonemes_seq_len, prediction_speaker_ids, prediction_params, True\n",
    "    )\n",
    "    \n",
    "    train_writer = tf.summary.FileWriter('../log/train_duration_model_notebook/train', sess.graph)\n",
    "    \n",
    "    tf.global_variables_initializer().run()\n",
    "    coord = tf.train.Coordinator()\n",
    "    threads = tf.train.start_queue_runners(sess=sess, coord=coord)\n",
    "\n",
    "    saver = tf.train.Saver(max_to_keep=10, keep_checkpoint_every_n_hours=3)\n",
    "    \n",
    "    # Trianing procedure\n",
    "    for i in xrange(num_steps):\n",
    "        print '='*30\n",
    "        print \"epoch:\",i\n",
    "        total_loss = 0 \n",
    "        for s in tqdm(train_sentences):             \n",
    "            out = sess.run([\n",
    "                train_op_tf,\n",
    "                loss_tf,\n",
    "                global_step_tf,\n",
    "                summary_tf,\n",
    "                logits_tf,\n",
    "                transition_params_tf\n",
    "            ], feed_dict={\n",
    "                phonemes: s['phonemes'], \n",
    "                phonemes_seq_len: s['phonemes_seq_len'], \n",
    "                speaker_ids: np.ones((batch_size)),\n",
    "                durations: s['durations'] \n",
    "            })\n",
    "            _,  loss, global_step, summary, logits, transition_params  = out\n",
    "            total_loss = total_loss + loss\n",
    "            # detect gradient explosion\n",
    "            if loss > 1e8 and global_step > 500:\n",
    "                print('loss exploded')\n",
    "                break\n",
    "        print \"Train total loss:\",total_loss/sen_n\n",
    "        print \"Current sentence loss:\", loss\n",
    "        \n",
    "        \n",
    "        val_loss = 0\n",
    "        print \"Calculating validation loss...\"\n",
    "        for s in (val_sentences):\n",
    "            loss = sess.run(loss_tf, feed_dict={\n",
    "                phonemes: s['phonemes'], \n",
    "                phonemes_seq_len: s['phonemes_seq_len'], \n",
    "                speaker_ids: np.ones((batch_size)),\n",
    "                durations: s['durations']                \n",
    "            })\n",
    "            val_loss += loss\n",
    "        print \"Validation loss:\",val_loss/val_sen_n\n",
    "        \n",
    "\n",
    "    trans_params = tf.convert_to_tensor(transition_params, np.float32, name=\"trans_params\")\n",
    "    tf.add_to_collection(\"trans_params\", trans_params)\n",
    "    \n",
    "    print('saving weights')\n",
    "    if not os.path.exists('../weights/train_duration_model_notebook/'):\n",
    "        os.makedirs('../weights/train_duration_model_notebook/')    \n",
    "    saver.save(sess, '../weights/train_duration_model_notebook/model.ckpt')\n",
    "    \n",
    "    coord.request_stop()\n",
    "    coord.join(threads)\n",
    "    \n",
    "'''\n",
    "        train_writer.add_summary(summary, global_step)\n",
    "\n",
    "        # detect gradient explosion\n",
    "        if loss > 1e8 and global_step > 500:\n",
    "            print('loss exploded')\n",
    "            break\n",
    "\n",
    "        if global_step % save_energy == 0 and global_step != 0:\n",
    "\n",
    "            print('saving weights')\n",
    "            if not os.path.exists('../weights/train_duration_model_notebook/'):\n",
    "                os.makedirs('../weights/train_duration_model_notebook/')    \n",
    "            saver.save(sess, '../weights/train_duration_model_notebook/model.ckpt', global_step=global_step)\n",
    "\n",
    "'''\n",
    "    \n",
    "    "
   ]
  },
  {
   "cell_type": "code",
   "execution_count": null,
   "metadata": {},
   "outputs": [],
   "source": []
  },
  {
   "cell_type": "code",
   "execution_count": null,
   "metadata": {},
   "outputs": [],
   "source": []
  }
 ],
 "metadata": {
  "kernelspec": {
   "display_name": "Python 2",
   "language": "python",
   "name": "python2"
  },
  "language_info": {
   "codemirror_mode": {
    "name": "ipython",
    "version": 2
   },
   "file_extension": ".py",
   "mimetype": "text/x-python",
   "name": "python",
   "nbconvert_exporter": "python",
   "pygments_lexer": "ipython2",
   "version": "2.7.5"
  }
 },
 "nbformat": 4,
 "nbformat_minor": 2
}
