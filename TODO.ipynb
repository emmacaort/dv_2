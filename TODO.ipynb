{
 "cells": [
  {
   "cell_type": "markdown",
   "metadata": {},
   "source": [
    "## TODO list:"
   ]
  },
  {
   "cell_type": "markdown",
   "metadata": {},
   "source": [
    "duration model:\n",
    "- phoneme2vec\n",
    "- assign durations into buckets  -finished\n",
    "- modify crf_decode()  -finished\n",
    "- add predict process  -finished\n",
    "\n",
    "frequency model:\n",
    "- modify input (upsample)  -finished\n",
    "- create tags for voiced_target  -finished\n",
    "- add tradeoff constant to loss function\n",
    "\n",
    "wavenet model:\n"
   ]
  },
  {
   "cell_type": "code",
   "execution_count": null,
   "metadata": {},
   "outputs": [],
   "source": []
  }
 ],
 "metadata": {
  "kernelspec": {
   "display_name": "Python 2",
   "language": "python",
   "name": "python2"
  },
  "language_info": {
   "codemirror_mode": {
    "name": "ipython",
    "version": 2
   },
   "file_extension": ".py",
   "mimetype": "text/x-python",
   "name": "python",
   "nbconvert_exporter": "python",
   "pygments_lexer": "ipython2",
   "version": "2.7.5"
  }
 },
 "nbformat": 4,
 "nbformat_minor": 2
}
